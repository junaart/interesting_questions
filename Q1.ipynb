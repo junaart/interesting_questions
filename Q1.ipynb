{
 "cells": [
  {
   "cell_type": "markdown",
   "id": "7da80276-b53a-4156-9d72-ecc6611bdcbe",
   "metadata": {},
   "source": [
    "\n",
    "Рассмотрим варианты $$w(x)=\\sin\\left(\\log\\left(\\frac{1}{x}\\right)\\right)$$\n",
    "$$a_k=\\int_0^1x^k\\sin\\left(\\log\\left(\\frac{1}{x}\\right)\\right)dx=\\frac{1}{k^2+2k+2}$$\n",
    "\n",
    "Интересно отметить, что сумму данного ряда Wolfram находит с [ошибкой](https://www.wolframalpha.com/input?i=sum%28%28-1%29%5Ek%2F%28k%5E2%2B2*k%2B2%29%2Ck%2C0%2Cinf%29%3B). \n",
    "\n",
    "Значение:\n",
    "\n",
    "$$\\sum_{k=0}^{\\infty}\\frac{(-1)^k}{k^2+2k+2}\\approx 0.363998$$\n",
    "\n",
    "Однако можно проверить, что это не так:\n",
    "\n",
    "sum(float((-1)^k/(k^2+2*k+2)),k,0,10000);\n",
    "\n",
    "sum(float((-1)^k/(k^2+2*k+2)),k,0,1000000);\n",
    "\n",
    "Если использовать полученную формулу при $b=c=2$, то получаем:\n",
    "\n",
    "$$\\sum_{k=0}^{\\infty}\\frac{(-1)^k}{k^2+2k+2}=-\\frac{1}{4i}\\left(H_{\\frac{i}{2}}-H_{\\frac{i-1}{2}}-H_{-\\frac{i}{2}}+H_{-\\frac{i+1}{2}}\\right)\\approx -0.3639854725089334185$$\n",
    "\n",
    "[Wolfram](https://www.wolframalpha.com/input?i=1%2F%284i%29*%28HarmonicNumber%28i%2F2%29-HarmonicNumber%28%28i-1%29%2F2%29-HarmonicNumber%28-i%2F2%29%2BHarmonicNumber%28-%28i%2B1%29%2F2%29%29)\n",
    "\n",
    "Видно, что результат совпадает с численным расчетом, но отличается знаком. В Wolfram, кстати, дается короткий результат для этого:\n",
    "\n",
    "$$-\\frac{1}{4i}\\left(H_{\\frac{i}{2}}-H_{\\frac{i-1}{2}}-H_{-\\frac{i}{2}}+H_{-\\frac{i+1}{2}}\\right)=\\frac{1}{2} (-1 + \\pi csch(\\pi))=\\frac{1}{2}\\left(-1+\\pi\\cdot \\frac{2}{e^{\\pi}-e^{-\\pi}}\\right)$$\n",
    "\n",
    "Получается, что сам ряд равен:\n",
    "$$\\sum_{k=0}^{\\infty}\\frac{(-1)^k}{k^2+2k+2}=\\frac{1}{2}-\\frac{\\pi}{e^{\\pi}-e^{-\\pi}}$$"
   ]
  },
  {
   "cell_type": "code",
   "execution_count": null,
   "id": "4df839d2-1e4b-4651-a9ad-93a0f8c7d394",
   "metadata": {},
   "outputs": [],
   "source": []
  }
 ],
 "metadata": {
  "kernelspec": {
   "display_name": "Maxima",
   "language": "maxima",
   "name": "maxima"
  },
  "language_info": {
   "codemirror_mode": "maxima",
   "file_extension": ".mac",
   "mimetype": "text/x-maxima",
   "name": "maxima",
   "pygments_lexer": "maxima",
   "version": "5.45.1"
  }
 },
 "nbformat": 4,
 "nbformat_minor": 5
}
